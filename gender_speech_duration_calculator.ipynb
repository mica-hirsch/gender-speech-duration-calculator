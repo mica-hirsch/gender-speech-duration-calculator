{
  "nbformat": 4,
  "nbformat_minor": 0,
  "metadata": {
    "colab": {
      "name": "gender-speech-duration-calculator.ipynb",
      "provenance": [],
      "collapsed_sections": []
    },
    "kernelspec": {
      "name": "python3",
      "display_name": "Python 3"
    },
    "accelerator": "GPU"
  },
  "cells": [
    {
      "cell_type": "markdown",
      "metadata": {
        "id": "xWNZGVsCFIvm",
        "colab_type": "text"
      },
      "source": [
        "##**Gender-speech-duration-calculator**\n",
        "Here you will find a tool to calculate the percentage of time of female voice speech and male voice speech in a video/movie. You can either choose to paste a youtube link or you can upload your video. Install the program, choose one option and calculate the percentage of female and male speech.\n"
      ]
    },
    {
      "cell_type": "markdown",
      "metadata": {
        "id": "9GmX522uJeWu",
        "colab_type": "text"
      },
      "source": [
        "##**Step 1: installation**"
      ]
    },
    {
      "cell_type": "code",
      "metadata": {
        "id": "8_gP5XG3ib_c",
        "colab_type": "code",
        "cellView": "form",
        "colab": {
          "base_uri": "https://localhost:8080/",
          "height": 17
        },
        "outputId": "a25a5037-097b-4fd2-a49e-d8b96b1a97bb"
      },
      "source": [
        "#@title Install gender-speech-duration-calculator \n",
        "!apt-get install ffmpeg\n",
        "!pip install inaSpeechSegmenter\n",
        "!pip install youtube_dl\n",
        "!pip install -qU ddsp\n",
        "from google.colab import output\n",
        "output.clear()"
      ],
      "execution_count": 2,
      "outputs": []
    },
    {
      "cell_type": "markdown",
      "metadata": {
        "id": "ztRec656Jle3",
        "colab_type": "text"
      },
      "source": [
        "##**Step 2: upload/paste video**\n"
      ]
    },
    {
      "cell_type": "code",
      "metadata": {
        "id": "UM_YKvcat8iy",
        "colab_type": "code",
        "cellView": "form",
        "colab": {}
      },
      "source": [
        "#@title Option 1: paste your youtube link here\n",
        "import youtube_dl\n",
        "youtube_link= 'https://www.youtube.com/watch?v=UG_X_7g63rY&t=23s' #@param {type:\"string\"}\n",
        "ydl_opts = {\n",
        "    'format': 'bestaudio/best',\n",
        "    'postprocessors': [{\n",
        "        'key': 'FFmpegExtractAudio',\n",
        "        'preferredcodec': 'mp3',\n",
        "        'preferredquality': '192',\n",
        "    }],\n",
        "    'outtmpl': 'audio.%(etx)s',\n",
        "    'quiet': False\n",
        "}\n",
        "\n",
        "with youtube_dl.YoutubeDL(ydl_opts) as ydl:\n",
        "    ydl.download([youtube_link])  \n",
        "output.clear()\n"
      ],
      "execution_count": 3,
      "outputs": []
    },
    {
      "cell_type": "code",
      "metadata": {
        "id": "2dbp553p4ZAl",
        "colab_type": "code",
        "cellView": "form",
        "colab": {}
      },
      "source": [
        "#@title Option 2: click here to upload your video (it has to be mp4 format).\n",
        "import moviepy.editor as mp\n",
        "from ddsp.colab.colab_utils import upload\n",
        "\n",
        "filenames, audios = upload()\n",
        "tuple_file=filenames, audios[0][0]\n",
        "video=tuple_file[0][0]\n",
        "clip = mp.VideoFileClip(\"/content/\"+video).subclip(0,20)\n",
        "clip.audio.write_audiofile(\"audio.mp3\")\n"
      ],
      "execution_count": null,
      "outputs": []
    },
    {
      "cell_type": "markdown",
      "metadata": {
        "id": "71ecr3RQJ0H7",
        "colab_type": "text"
      },
      "source": [
        "##**Step 3: compute percentage**"
      ]
    },
    {
      "cell_type": "code",
      "metadata": {
        "id": "K7wrjFNcAcL9",
        "colab_type": "code",
        "cellView": "form",
        "colab": {}
      },
      "source": [
        "#@title Click here to calculate the percentage of female/male voice speech (this may take a while).\n",
        "\n",
        "from inaSpeechSegmenter import Segmenter, seg2csv\n",
        "media = 'audio.mp3'\n",
        "seg = Segmenter()\n",
        "segmentation = seg(media)\n",
        "\n",
        "female=0\n",
        "male=0\n",
        "\n",
        "for i in segmentation:\n",
        "  duration = i[2] - i[1]\n",
        "  if i[0] == \"female\":\n",
        "    female=female + duration\n",
        "  elif i[0] == \"male\":\n",
        "    male=male + duration\n",
        "total_speech= female + male\n",
        "\n",
        "def percentage(part, whole):\n",
        "  return 100 * float(part)/float(whole)\n",
        "\n",
        "percentage_female=round(percentage(female, total_speech), 2)\n",
        "percentage_male=round(percentage(male, total_speech), 2)\n",
        "output.clear()\n",
        "print(\"RESULTS:\")\n",
        "print(\"Female voice speech: \"+str(percentage_female)+ \"%.\")\n",
        "print(\"Male voice speech: \"+str(percentage_male)+\"%.\")\n"
      ],
      "execution_count": null,
      "outputs": []
    },
    {
      "cell_type": "markdown",
      "metadata": {
        "id": "7L5WwKb1Fvya",
        "colab_type": "text"
      },
      "source": [
        "##Important note: \n",
        "Although we acknowledge there are many more genders than male/female, and that there is no such thing as a \"woman's voice\" or a \"man's voice\",  this tool tries its best to make a contribution to make gender inequality more visible. Hopefully in the future there will be more developed tools that fight gender inequality for all genders.\n"
      ]
    }
  ]
}